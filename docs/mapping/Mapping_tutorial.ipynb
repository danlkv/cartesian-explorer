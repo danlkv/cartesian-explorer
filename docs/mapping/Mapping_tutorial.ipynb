{
 "cells": [
  {
   "cell_type": "code",
   "execution_count": 1,
   "metadata": {},
   "outputs": [],
   "source": [
    "from cartesian_explorer import Explorer\n",
    "import numpy as np\n",
    "import datetime\n",
    "%load_ext autoreload\n",
    "%autoreload 2"
   ]
  },
  {
   "cell_type": "markdown",
   "metadata": {},
   "source": [
    "<div style=\"height:50px\">\n",
    "<br></br>\n",
    "</div>\n",
    "\n",
    "# 🗺️ Mapping tutorial\n",
    "\n",
    "Cartesian Explorer is a tool that simplifies exploring multi-input functions.\n",
    "Let's start with the first stage: the improved `map` API.\n",
    "\n",
    "## Iterating over cartesian product of arguments\n",
    "\n",
    "The goal of `Explorer.map` function is to provide a handy way of writing the following constructs:\n",
    "```python\n",
    "res = []\n",
    "for v_1 in args_1:\n",
    "    for v_2 in args_2:\n",
    "        for v_2 in args_3\n",
    "            res.append(my_function(v_1, v_2, v_3))\n",
    "\n",
    "res = np.array(res).reshape(len(arg_1), len(args_2), len(args_3))\n",
    "```\n",
    "\n",
    "The equivalent syntax for a function that takes arguments `a, b, c` is:\n",
    "\n",
    "```python\n",
    "ex = Explorer()\n",
    "res = ex.map(my_function, a=args_1, b=args_2, c=args_3)\n",
    "```"
   ]
  },
  {
   "cell_type": "markdown",
   "metadata": {},
   "source": [
    "Let's create an example of a function with many arguments: for example a `date_string` function that returns a string representation of datetime."
   ]
  },
  {
   "cell_type": "code",
   "execution_count": 9,
   "metadata": {},
   "outputs": [],
   "source": [
    "def date_string(year, month, day, hour=0, minute=0, second=0):\n",
    "    return datetime.datetime(year, month, day, hour, minute, second).isoformat()"
   ]
  },
  {
   "cell_type": "code",
   "execution_count": 10,
   "metadata": {},
   "outputs": [
    {
     "data": {
      "text/plain": [
       "(1, 2, 2, 2, 1, 3)"
      ]
     },
     "execution_count": 10,
     "metadata": {},
     "output_type": "execute_result"
    }
   ],
   "source": [
    "ex = Explorer()\n",
    "result = ex.map(date_string, \n",
    "    year = [2023],\n",
    "    month = [5, 6],\n",
    "    day = [1, 15],\n",
    "    hour = [12, 6],\n",
    "    minute = [0],\n",
    "    second = [1, 2, 3]\n",
    ")\n",
    "result.shape"
   ]
  },
  {
   "cell_type": "markdown",
   "metadata": {},
   "source": [
    "The result is a `numpy` array with the same dimensions as the length of each argument.\n",
    "This can be seen as a `len(shape)`-dimensional tensor with.\n",
    "Now we can access the element by index in input dimensions, for example:"
   ]
  },
  {
   "cell_type": "code",
   "execution_count": 11,
   "metadata": {},
   "outputs": [
    {
     "data": {
      "text/plain": [
       "'2023-05-01T12:00:01'"
      ]
     },
     "execution_count": 11,
     "metadata": {},
     "output_type": "execute_result"
    }
   ],
   "source": [
    "result[0, 0, 0, 0, 0, 0]"
   ]
  },
  {
   "cell_type": "markdown",
   "metadata": {},
   "source": [
    "Check that this output corresponds to the first item in input arguments (e.g. May 1, 2023 for date)"
   ]
  },
  {
   "cell_type": "markdown",
   "metadata": {},
   "source": [
    "### Caveats of mapping syntax\n",
    "\n",
    "The simple syntax of passing keyword arguments is useful, but in general can lead to some issues.\n",
    "They are addressed by providing a fallback syntax using `constants` and `variables` keyword arguments.\n",
    "This is consistently used across all `map_*` functions in cartesian explorer.\n",
    "\n",
    "#### Iterable keyword arguments\n",
    "Each argument must be an iterable. Be careful with this:"
   ]
  },
  {
   "cell_type": "code",
   "execution_count": 12,
   "metadata": {},
   "outputs": [
    {
     "data": {
      "text/plain": [
       "array(['M', 'a', 'r', 'y', ' ', 'h', 'a', 'd', ' ', 'a', ' ', 'l', 'i',\n",
       "       't', 't', 'l', 'e', ' ', 'l', 'a', 'm', 'b'], dtype='<U1')"
      ]
     },
     "execution_count": 12,
     "metadata": {},
     "output_type": "execute_result"
    }
   ],
   "source": [
    "def string_reverse(s):\n",
    "    return s[::-1]\n",
    "\n",
    "ex.map(string_reverse, s='Mary had a little lamb')"
   ]
  },
  {
   "cell_type": "markdown",
   "metadata": {},
   "source": [
    "Just like in `for v in arg_1` you will get iteration over the string.\n",
    "To use a single-dimension input, just wrap it into a list:"
   ]
  },
  {
   "cell_type": "code",
   "execution_count": 13,
   "metadata": {},
   "outputs": [
    {
     "data": {
      "text/plain": [
       "array(['bmal elttil a dah yraM'], dtype='<U22')"
      ]
     },
     "execution_count": 13,
     "metadata": {},
     "output_type": "execute_result"
    }
   ],
   "source": [
    "ex.map(string_reverse, s=['Mary had a little lamb'])"
   ]
  },
  {
   "cell_type": "markdown",
   "metadata": {},
   "source": [
    "The output is a 1-dimensional array with length 1\n",
    "\n",
    "Note that returning a numpy array will not get nested by default:"
   ]
  },
  {
   "cell_type": "markdown",
   "metadata": {},
   "source": [
    "#### Setting constant arguments\n",
    "\n",
    "Sometimes it is handy to set constant arguments without having a dedicated dimension for it in the output.\n",
    "For this, use `constants` keyword:"
   ]
  },
  {
   "cell_type": "code",
   "execution_count": 15,
   "metadata": {},
   "outputs": [
    {
     "data": {
      "text/plain": [
       "array(['2023-05-21T00:00:01', '2023-05-21T00:00:02',\n",
       "       '2023-05-21T00:00:03'], dtype='<U19')"
      ]
     },
     "execution_count": 15,
     "metadata": {},
     "output_type": "execute_result"
    }
   ],
   "source": [
    "ex.map(date_string, second=[1, 2, 3], constants=dict(year=2023, month=5, day=21))"
   ]
  },
  {
   "cell_type": "markdown",
   "metadata": {},
   "source": [
    "#### Avoiding conflict with special arguments\n",
    "\n",
    "In case your function has an actual argument called `constants` (and other special keyword argumens of `map`), you can always specify arguments using `variables` argument:\n",
    "\n",
    "* `variables` takes precedence\n",
    "* you should not use both `variables` and the keyword argument syntax\n"
   ]
  },
  {
   "cell_type": "code",
   "execution_count": 28,
   "metadata": {},
   "outputs": [
    {
     "data": {
      "text/plain": [
       "array(['constants=1, year=2023, day=21', 'constants=2, year=2023, day=21',\n",
       "       'constants=3, year=2023, day=21'], dtype='<U30')"
      ]
     },
     "execution_count": 28,
     "metadata": {},
     "output_type": "execute_result"
    }
   ],
   "source": [
    "def keyword_format(**kwargs):\n",
    "    return ', '.join([f'{k}={v}' for k, v in kwargs.items()])\n",
    "\n",
    "keywords = ex.map(keyword_format,\n",
    "       variables=dict(constants=[1, 2, 3]),\n",
    "       constants=dict(year=2023, constants=5, day=21)\n",
    "       )\n",
    "assert keywords[0] == 'constants=1, year=2023, day=21'\n",
    "keywords"
   ]
  },
  {
   "cell_type": "code",
   "execution_count": 29,
   "metadata": {},
   "outputs": [
    {
     "name": "stdout",
     "output_type": "stream",
     "text": [
      "Shape of output: (22,)\n",
      "Converted shape: (22, 2)\n"
     ]
    }
   ],
   "source": [
    "def to_array(s):\n",
    "    return np.array([s, s])\n",
    "\n",
    "array_of_lists = ex.map(to_array, s='Mary had a little lamb')\n",
    "print(\"Shape of output:\", array_of_lists.shape)\n",
    "print(\"Converted shape:\", np.array(array_of_lists.tolist()).shape)"
   ]
  },
  {
   "cell_type": "markdown",
   "metadata": {},
   "source": [
    "The resulting array is not a 2-d array, but a nested array. There is a special way to specify that your function returns a vector."
   ]
  },
  {
   "cell_type": "markdown",
   "metadata": {},
   "source": [
    "## Using annotated `xarray` arrays as output\n",
    "\n",
    "While numpy is a popular package and is supported by default, you now can see the benefit of having named dimensions.\n",
    "This is the perfect use case for [`xarray`](https://docs.xarray.dev/en/stable/) package."
   ]
  },
  {
   "cell_type": "code",
   "execution_count": 80,
   "metadata": {},
   "outputs": [
    {
     "name": "stderr",
     "output_type": "stream",
     "text": [
      "/home/smooth/.local/lib/python3.11/site-packages/xarray/core/variable.py:288: VisibleDeprecationWarning: Creating an ndarray from ragged nested sequences (which is a list-or-tuple of lists-or-tuples-or ndarrays with different lengths or shapes) is deprecated. If you meant to do this, you must specify 'dtype=object' when creating the ndarray.\n",
      "  data = np.asarray(data)\n"
     ]
    },
    {
     "ename": "MissingDimensionsError",
     "evalue": "cannot set variable 'E' with 2-dimensional data without explicit dimension names. Pass a tuple of (dims, data) instead.",
     "output_type": "error",
     "traceback": [
      "\u001b[0;31m---------------------------------------------------------------------------\u001b[0m",
      "\u001b[0;31mMissingDimensionsError\u001b[0m                    Traceback (most recent call last)",
      "Cell \u001b[0;32mIn[80], line 1\u001b[0m\n\u001b[0;32m----> 1\u001b[0m result_x \u001b[39m=\u001b[39m ex\u001b[39m.\u001b[39;49mmap_xarray(keyword_format, \n\u001b[1;32m      2\u001b[0m     year \u001b[39m=\u001b[39;49m [\u001b[39m2023\u001b[39;49m],\n\u001b[1;32m      3\u001b[0m     month \u001b[39m=\u001b[39;49m [\u001b[39m5\u001b[39;49m, \u001b[39m6\u001b[39;49m],\n\u001b[1;32m      4\u001b[0m     label \u001b[39m=\u001b[39;49m [\u001b[39m'\u001b[39;49m\u001b[39mabc\u001b[39;49m\u001b[39m'\u001b[39;49m, \u001b[39m'\u001b[39;49m\u001b[39mdef\u001b[39;49m\u001b[39m'\u001b[39;49m, (\u001b[39m0\u001b[39;49m, \u001b[39m1\u001b[39;49m)],\n\u001b[1;32m      5\u001b[0m     mystr \u001b[39m=\u001b[39;49m [\u001b[39m'\u001b[39;49m\u001b[39mMary had a little lamb\u001b[39;49m\u001b[39m'\u001b[39;49m],\n\u001b[1;32m      6\u001b[0m     constants\u001b[39m=\u001b[39;49m\u001b[39mdict\u001b[39;49m(C\u001b[39m=\u001b[39;49m\u001b[39m1\u001b[39;49m, E\u001b[39m=\u001b[39;49m(\u001b[39m0\u001b[39;49m, \u001b[39m1\u001b[39;49m))\n\u001b[1;32m      7\u001b[0m )\n\u001b[1;32m      8\u001b[0m \u001b[39mprint\u001b[39m(\u001b[39m\"\u001b[39m\u001b[39mResult coordinates:\u001b[39m\u001b[39m\"\u001b[39m, result_x\u001b[39m.\u001b[39mcoords)\n\u001b[1;32m      9\u001b[0m slice_x \u001b[39m=\u001b[39m result_x\u001b[39m.\u001b[39msel(year\u001b[39m=\u001b[39m\u001b[39m2023\u001b[39m, label\u001b[39m=\u001b[39m(\u001b[39m0\u001b[39m, \u001b[39m1\u001b[39m))\n",
      "File \u001b[0;32m~/projects/cartesian-explorer/cartesian_explorer/ExplorerBasic.py:277\u001b[0m, in \u001b[0;36mExplorerBasic.map_xarray\u001b[0;34m(self, variables, constants, *args, **kwargs)\u001b[0m\n\u001b[1;32m    275\u001b[0m         coords[c] \u001b[39m=\u001b[39m [constants[c]]\n\u001b[1;32m    276\u001b[0m         data \u001b[39m=\u001b[39m data[\u001b[39m.\u001b[39m\u001b[39m.\u001b[39m\u001b[39m.\u001b[39m, np\u001b[39m.\u001b[39mnewaxis]\n\u001b[0;32m--> 277\u001b[0m \u001b[39mreturn\u001b[39;00m xarray\u001b[39m.\u001b[39;49mDataArray(data, dims\u001b[39m=\u001b[39;49m\u001b[39mlist\u001b[39;49m(param_space\u001b[39m.\u001b[39;49mkeys()), coords\u001b[39m=\u001b[39;49mcoords)\u001b[39m.\u001b[39msel(\u001b[39m*\u001b[39m\u001b[39m*\u001b[39mconstants)\n",
      "File \u001b[0;32m~/.local/lib/python3.11/site-packages/xarray/core/dataarray.py:417\u001b[0m, in \u001b[0;36mDataArray.__init__\u001b[0;34m(self, data, coords, dims, name, attrs, indexes, fastpath)\u001b[0m\n\u001b[1;32m    415\u001b[0m data \u001b[39m=\u001b[39m _check_data_shape(data, coords, dims)\n\u001b[1;32m    416\u001b[0m data \u001b[39m=\u001b[39m as_compatible_data(data)\n\u001b[0;32m--> 417\u001b[0m coords, dims \u001b[39m=\u001b[39m _infer_coords_and_dims(data\u001b[39m.\u001b[39;49mshape, coords, dims)\n\u001b[1;32m    418\u001b[0m variable \u001b[39m=\u001b[39m Variable(dims, data, attrs, fastpath\u001b[39m=\u001b[39m\u001b[39mTrue\u001b[39;00m)\n\u001b[1;32m    419\u001b[0m indexes, coords \u001b[39m=\u001b[39m _create_indexes_from_coords(coords)\n",
      "File \u001b[0;32m~/.local/lib/python3.11/site-packages/xarray/core/dataarray.py:145\u001b[0m, in \u001b[0;36m_infer_coords_and_dims\u001b[0;34m(shape, coords, dims)\u001b[0m\n\u001b[1;32m    143\u001b[0m \u001b[39mif\u001b[39;00m utils\u001b[39m.\u001b[39mis_dict_like(coords):\n\u001b[1;32m    144\u001b[0m     \u001b[39mfor\u001b[39;00m k, v \u001b[39min\u001b[39;00m coords\u001b[39m.\u001b[39mitems():\n\u001b[0;32m--> 145\u001b[0m         new_coords[k] \u001b[39m=\u001b[39m as_variable(v, name\u001b[39m=\u001b[39;49mk)\n\u001b[1;32m    146\u001b[0m \u001b[39melif\u001b[39;00m coords \u001b[39mis\u001b[39;00m \u001b[39mnot\u001b[39;00m \u001b[39mNone\u001b[39;00m:\n\u001b[1;32m    147\u001b[0m     \u001b[39mfor\u001b[39;00m dim, coord \u001b[39min\u001b[39;00m \u001b[39mzip\u001b[39m(dims, coords):\n",
      "File \u001b[0;32m~/.local/lib/python3.11/site-packages/xarray/core/variable.py:143\u001b[0m, in \u001b[0;36mas_variable\u001b[0;34m(obj, name)\u001b[0m\n\u001b[1;32m    141\u001b[0m     data \u001b[39m=\u001b[39m as_compatible_data(obj)\n\u001b[1;32m    142\u001b[0m     \u001b[39mif\u001b[39;00m data\u001b[39m.\u001b[39mndim \u001b[39m!=\u001b[39m \u001b[39m1\u001b[39m:\n\u001b[0;32m--> 143\u001b[0m         \u001b[39mraise\u001b[39;00m MissingDimensionsError(\n\u001b[1;32m    144\u001b[0m             \u001b[39mf\u001b[39m\u001b[39m\"\u001b[39m\u001b[39mcannot set variable \u001b[39m\u001b[39m{\u001b[39;00mname\u001b[39m!r}\u001b[39;00m\u001b[39m with \u001b[39m\u001b[39m{\u001b[39;00mdata\u001b[39m.\u001b[39mndim\u001b[39m!r}\u001b[39;00m\u001b[39m-dimensional data \u001b[39m\u001b[39m\"\u001b[39m\n\u001b[1;32m    145\u001b[0m             \u001b[39m\"\u001b[39m\u001b[39mwithout explicit dimension names. Pass a tuple of \u001b[39m\u001b[39m\"\u001b[39m\n\u001b[1;32m    146\u001b[0m             \u001b[39m\"\u001b[39m\u001b[39m(dims, data) instead.\u001b[39m\u001b[39m\"\u001b[39m\n\u001b[1;32m    147\u001b[0m         )\n\u001b[1;32m    148\u001b[0m     obj \u001b[39m=\u001b[39m Variable(name, data, fastpath\u001b[39m=\u001b[39m\u001b[39mTrue\u001b[39;00m)\n\u001b[1;32m    149\u001b[0m \u001b[39melse\u001b[39;00m:\n",
      "\u001b[0;31mMissingDimensionsError\u001b[0m: cannot set variable 'E' with 2-dimensional data without explicit dimension names. Pass a tuple of (dims, data) instead."
     ]
    }
   ],
   "source": [
    "result_x = ex.map_xarray(keyword_format, \n",
    "    year = [2023],\n",
    "    month = [5, 6],\n",
    "    label = ['abc', 'def', (0, 1)],\n",
    "    mystr = ['Mary had a little lamb'],\n",
    "    constants=dict(C=1, E=(0, 1))\n",
    ")\n",
    "print(\"Result coordinates:\", result_x.coords)\n",
    "slice_x = result_x.sel(year=2023, label=(0, 1))\n",
    "slice_x"
   ]
  },
  {
   "cell_type": "code",
   "execution_count": 75,
   "metadata": {},
   "outputs": [
    {
     "data": {
      "text/plain": [
       "Coordinates:\n",
       "    year     int64 2023\n",
       "  * month    (month) int64 5 6\n",
       "    label    <U3 'abc'\n",
       "  * mystr    (mystr) <U22 'Mary had a little lamb'\n",
       "    C        int64 1"
      ]
     },
     "execution_count": 75,
     "metadata": {},
     "output_type": "execute_result"
    }
   ],
   "source": [
    "slice_x.coords"
   ]
  },
  {
   "cell_type": "code",
   "execution_count": null,
   "metadata": {},
   "outputs": [],
   "source": []
  },
  {
   "cell_type": "code",
   "execution_count": 72,
   "metadata": {},
   "outputs": [
    {
     "data": {
      "text/html": [
       "<div>\n",
       "<style scoped>\n",
       "    .dataframe tbody tr th:only-of-type {\n",
       "        vertical-align: middle;\n",
       "    }\n",
       "\n",
       "    .dataframe tbody tr th {\n",
       "        vertical-align: top;\n",
       "    }\n",
       "\n",
       "    .dataframe thead th {\n",
       "        text-align: right;\n",
       "    }\n",
       "</style>\n",
       "<table border=\"1\" class=\"dataframe\">\n",
       "  <thead>\n",
       "    <tr style=\"text-align: right;\">\n",
       "      <th></th>\n",
       "      <th></th>\n",
       "      <th></th>\n",
       "      <th></th>\n",
       "      <th>C</th>\n",
       "      <th>keyword_format</th>\n",
       "    </tr>\n",
       "    <tr>\n",
       "      <th>year</th>\n",
       "      <th>month</th>\n",
       "      <th>three_letters</th>\n",
       "      <th>mystr</th>\n",
       "      <th></th>\n",
       "      <th></th>\n",
       "    </tr>\n",
       "  </thead>\n",
       "  <tbody>\n",
       "    <tr>\n",
       "      <th rowspan=\"4\" valign=\"top\">2023</th>\n",
       "      <th rowspan=\"2\" valign=\"top\">5</th>\n",
       "      <th>abc</th>\n",
       "      <th>Mary had a little lamb</th>\n",
       "      <td>1</td>\n",
       "      <td>year=2023, month=5, three_letters=abc, mystr=M...</td>\n",
       "    </tr>\n",
       "    <tr>\n",
       "      <th>def</th>\n",
       "      <th>Mary had a little lamb</th>\n",
       "      <td>1</td>\n",
       "      <td>year=2023, month=5, three_letters=def, mystr=M...</td>\n",
       "    </tr>\n",
       "    <tr>\n",
       "      <th rowspan=\"2\" valign=\"top\">6</th>\n",
       "      <th>abc</th>\n",
       "      <th>Mary had a little lamb</th>\n",
       "      <td>1</td>\n",
       "      <td>year=2023, month=6, three_letters=abc, mystr=M...</td>\n",
       "    </tr>\n",
       "    <tr>\n",
       "      <th>def</th>\n",
       "      <th>Mary had a little lamb</th>\n",
       "      <td>1</td>\n",
       "      <td>year=2023, month=6, three_letters=def, mystr=M...</td>\n",
       "    </tr>\n",
       "  </tbody>\n",
       "</table>\n",
       "</div>"
      ],
      "text/plain": [
       "                                                 C   \n",
       "year month three_letters mystr                       \n",
       "2023 5     abc           Mary had a little lamb  1  \\\n",
       "           def           Mary had a little lamb  1   \n",
       "     6     abc           Mary had a little lamb  1   \n",
       "           def           Mary had a little lamb  1   \n",
       "\n",
       "                                                                                    keyword_format  \n",
       "year month three_letters mystr                                                                      \n",
       "2023 5     abc           Mary had a little lamb  year=2023, month=5, three_letters=abc, mystr=M...  \n",
       "           def           Mary had a little lamb  year=2023, month=5, three_letters=def, mystr=M...  \n",
       "     6     abc           Mary had a little lamb  year=2023, month=6, three_letters=abc, mystr=M...  \n",
       "           def           Mary had a little lamb  year=2023, month=6, three_letters=def, mystr=M...  "
      ]
     },
     "execution_count": 72,
     "metadata": {},
     "output_type": "execute_result"
    }
   ],
   "source": [
    "result_x.to_dataframe(name='keyword_format')"
   ]
  },
  {
   "cell_type": "code",
   "execution_count": null,
   "metadata": {},
   "outputs": [],
   "source": []
  }
 ],
 "metadata": {
  "kernelspec": {
   "display_name": "Python 3 (ipykernel)",
   "language": "python",
   "name": "python3"
  },
  "language_info": {
   "codemirror_mode": {
    "name": "ipython",
    "version": 3
   },
   "file_extension": ".py",
   "mimetype": "text/x-python",
   "name": "python",
   "nbconvert_exporter": "python",
   "pygments_lexer": "ipython3",
   "version": "3.11.3"
  },
  "orig_nbformat": 4
 },
 "nbformat": 4,
 "nbformat_minor": 2
}
