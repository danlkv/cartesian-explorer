{
 "cells": [
  {
   "cell_type": "markdown",
   "metadata": {
    "toc": true
   },
   "source": [
    "<h1>Table of Contents<span class=\"tocSkip\"></span></h1>\n",
    "<div class=\"toc\"><ul class=\"toc-item\"><li><span><a href=\"#Which-cache-to-use?\" data-toc-modified-id=\"Which-cache-to-use?-1\"><span class=\"toc-item-num\">1&nbsp;&nbsp;</span>Which cache to use?</a></span><ul class=\"toc-item\"><li><span><a href=\"#Compare-performance\" data-toc-modified-id=\"Compare-performance-1.1\"><span class=\"toc-item-num\">1.1&nbsp;&nbsp;</span>Compare performance</a></span></li><li><span><a href=\"#Unhashable-objects-as-input\" data-toc-modified-id=\"Unhashable-objects-as-input-1.2\"><span class=\"toc-item-num\">1.2&nbsp;&nbsp;</span>Unhashable objects as input</a></span></li><li><span><a href=\"#Technicalities\" data-toc-modified-id=\"Technicalities-1.3\"><span class=\"toc-item-num\">1.3&nbsp;&nbsp;</span>Technicalities</a></span><ul class=\"toc-item\"><li><span><a href=\"#Source-code-hashing\" data-toc-modified-id=\"Source-code-hashing-1.3.1\"><span class=\"toc-item-num\">1.3.1&nbsp;&nbsp;</span>Source code hashing</a></span></li></ul></li></ul></li></ul></div>"
   ]
  },
  {
   "cell_type": "code",
   "execution_count": 1,
   "metadata": {
    "ExecuteTime": {
     "end_time": "2020-11-19T18:25:15.322479Z",
     "start_time": "2020-11-19T18:25:12.655559Z"
    }
   },
   "outputs": [
    {
     "name": "stdout",
     "output_type": "stream",
     "text": [
      "Defaulting to user installation because normal site-packages is not writeable\n",
      "Requirement already satisfied: diskcache in /home/dali/.local/lib/python3.8/site-packages (5.1.0)\n"
     ]
    }
   ],
   "source": [
    "!pip install diskcache"
   ]
  },
  {
   "cell_type": "code",
   "execution_count": 2,
   "metadata": {
    "ExecuteTime": {
     "end_time": "2020-11-19T18:25:15.898024Z",
     "start_time": "2020-11-19T18:25:15.328890Z"
    }
   },
   "outputs": [],
   "source": [
    "import numpy as np\n",
    "import joblib\n",
    "import diskcache\n",
    "from cartesian_explorer.caches import JobLibCache, FunctoolsCache_Disk, FunctoolsCache"
   ]
  },
  {
   "cell_type": "code",
   "execution_count": 3,
   "metadata": {
    "ExecuteTime": {
     "end_time": "2020-11-19T18:25:15.918167Z",
     "start_time": "2020-11-19T18:25:15.899391Z"
    }
   },
   "outputs": [],
   "source": [
    "%load_ext autoreload\n",
    "%autoreload 2"
   ]
  },
  {
   "cell_type": "markdown",
   "metadata": {},
   "source": [
    "# Which cache to use?"
   ]
  },
  {
   "cell_type": "code",
   "execution_count": 4,
   "metadata": {
    "ExecuteTime": {
     "end_time": "2020-11-19T18:25:15.931457Z",
     "start_time": "2020-11-19T18:25:15.919295Z"
    }
   },
   "outputs": [],
   "source": [
    "fcache = FunctoolsCache()\n",
    "jcache = JobLibCache('/tmp/cache_jl')\n",
    "dcache = FunctoolsCache_Disk('/tmp/cache_dc')"
   ]
  },
  {
   "cell_type": "markdown",
   "metadata": {
    "ExecuteTime": {
     "end_time": "2020-11-19T18:04:18.504305Z",
     "start_time": "2020-11-19T18:04:18.478324Z"
    }
   },
   "source": [
    "## Compare performance"
   ]
  },
  {
   "cell_type": "code",
   "execution_count": 5,
   "metadata": {
    "ExecuteTime": {
     "end_time": "2020-11-19T18:25:15.956425Z",
     "start_time": "2020-11-19T18:25:15.940119Z"
    }
   },
   "outputs": [],
   "source": [
    "fcache = FunctoolsCache()\n",
    "jcache = JobLibCache('/tmp/cache_jl')\n",
    "dcache = FunctoolsCache_Disk('/tmp/cache_dc')"
   ]
  },
  {
   "cell_type": "code",
   "execution_count": 6,
   "metadata": {
    "ExecuteTime": {
     "end_time": "2020-11-19T18:25:15.986719Z",
     "start_time": "2020-11-19T18:25:15.959463Z"
    }
   },
   "outputs": [],
   "source": [
    "def func(x):\n",
    "    print('func called', x)\n",
    "    return list(np.linspace(0, x, 1000))\n",
    "\n",
    "cached_f = fcache.wrap(func)\n",
    "cached_j = jcache.wrap(func)\n",
    "cached_d = dcache.wrap(func)\n",
    "#dcache.clear(cached_d) # clear state since we may have data on disk"
   ]
  },
  {
   "cell_type": "code",
   "execution_count": 7,
   "metadata": {
    "ExecuteTime": {
     "end_time": "2020-11-19T18:25:22.953580Z",
     "start_time": "2020-11-19T18:25:15.988673Z"
    }
   },
   "outputs": [
    {
     "name": "stdout",
     "output_type": "stream",
     "text": [
      "func called 10\n",
      "862 ns ± 107 ns per loop (mean ± std. dev. of 7 runs, 1000000 loops each)\n"
     ]
    }
   ],
   "source": [
    "%timeit cached_f(10)"
   ]
  },
  {
   "cell_type": "code",
   "execution_count": 8,
   "metadata": {
    "ExecuteTime": {
     "end_time": "2020-11-19T18:25:25.812773Z",
     "start_time": "2020-11-19T18:25:22.955562Z"
    }
   },
   "outputs": [
    {
     "name": "stdout",
     "output_type": "stream",
     "text": [
      "329 µs ± 96.2 µs per loop (mean ± std. dev. of 7 runs, 1000 loops each)\n"
     ]
    }
   ],
   "source": [
    "%timeit cached_d(10)"
   ]
  },
  {
   "cell_type": "code",
   "execution_count": 9,
   "metadata": {
    "ExecuteTime": {
     "end_time": "2020-11-19T18:25:31.455934Z",
     "start_time": "2020-11-19T18:25:25.816602Z"
    }
   },
   "outputs": [
    {
     "name": "stdout",
     "output_type": "stream",
     "text": [
      "6.75 ms ± 1.16 ms per loop (mean ± std. dev. of 7 runs, 100 loops each)\n"
     ]
    }
   ],
   "source": [
    "%timeit cached_j(10)"
   ]
  },
  {
   "cell_type": "markdown",
   "metadata": {},
   "source": [
    "- `FunctoolsCache` stores data in RAM and is the fastest, but does not preserve data between restarts.\n",
    "- `FunctoolsCache_Disk` uses `diskcache` as cache storage and `joblib` for function ispection. Fast disk storage.\n",
    "- `JobLibCache` uses `joblib.Memory` and supports un-hashable large objects."
   ]
  },
  {
   "cell_type": "markdown",
   "metadata": {
    "ExecuteTime": {
     "end_time": "2020-11-19T18:10:08.253534Z",
     "start_time": "2020-11-19T18:10:08.237906Z"
    }
   },
   "source": [
    "## Unhashable objects as input"
   ]
  },
  {
   "cell_type": "code",
   "execution_count": 10,
   "metadata": {
    "ExecuteTime": {
     "end_time": "2020-11-19T18:25:31.477998Z",
     "start_time": "2020-11-19T18:25:31.457617Z"
    }
   },
   "outputs": [],
   "source": [
    "def func(x):\n",
    "    print('func called', x)\n",
    "    return list(np.linspace(0, x[0], 1000))\n",
    "\n",
    "cached_f = fcache.wrap(func)\n",
    "cached_j = jcache.wrap(func)\n",
    "cached_d = dcache.wrap(func)\n",
    "#dcache.clear(cached_d) # clear state since we may have data on disk"
   ]
  },
  {
   "cell_type": "code",
   "execution_count": 11,
   "metadata": {
    "ExecuteTime": {
     "end_time": "2020-11-19T18:25:31.509352Z",
     "start_time": "2020-11-19T18:25:31.481416Z"
    }
   },
   "outputs": [],
   "source": [
    "def print_hashable_support(func):\n",
    "    try:\n",
    "        len(func([10]))\n",
    "    except TypeError as e:\n",
    "        print('Nope!', e)\n",
    "    else:\n",
    "        print('Yep!')"
   ]
  },
  {
   "cell_type": "code",
   "execution_count": 12,
   "metadata": {
    "ExecuteTime": {
     "end_time": "2020-11-19T18:25:31.623157Z",
     "start_time": "2020-11-19T18:25:31.525187Z"
    },
    "scrolled": true
   },
   "outputs": [
    {
     "name": "stdout",
     "output_type": "stream",
     "text": [
      "Does this cache support un-hashable inputs?\n",
      "- Functools:\n",
      "Nope! unhashable type: 'list'\n",
      "- Diskcache:\n",
      "Nope! unhashable type: 'list'\n",
      "- JobLib:\n",
      "func called [10]\n",
      "Yep!\n"
     ]
    }
   ],
   "source": [
    "print('Does this cache support un-hashable inputs?')\n",
    "print('- Functools:')\n",
    "print_hashable_support(cached_f)\n",
    "print('- Diskcache:')\n",
    "print_hashable_support(cached_d)\n",
    "print('- JobLib:')\n",
    "print_hashable_support(cached_j)"
   ]
  },
  {
   "cell_type": "markdown",
   "metadata": {},
   "source": [
    "---"
   ]
  },
  {
   "cell_type": "markdown",
   "metadata": {},
   "source": [
    "---"
   ]
  },
  {
   "cell_type": "markdown",
   "metadata": {},
   "source": [
    "## Technicalities"
   ]
  },
  {
   "cell_type": "code",
   "execution_count": 13,
   "metadata": {
    "ExecuteTime": {
     "end_time": "2020-11-19T18:25:31.657768Z",
     "start_time": "2020-11-19T18:25:31.625932Z"
    }
   },
   "outputs": [],
   "source": [
    "@dcache.wrap\n",
    "def func_b(x, y):\n",
    "    print('func called', x)\n",
    "    return list(np.linspace(0, x, y))\n",
    "@dcache.wrap\n",
    "def func_a(x, y):\n",
    "    print('func called', x)\n",
    "    y = y*3\n",
    "    return list(np.linspace(0, x, y+1))\n"
   ]
  },
  {
   "cell_type": "code",
   "execution_count": 14,
   "metadata": {
    "ExecuteTime": {
     "end_time": "2020-11-19T18:25:31.687722Z",
     "start_time": "2020-11-19T18:25:31.659454Z"
    }
   },
   "outputs": [],
   "source": [
    "dcache.clear(func_a)\n",
    "dcache.clear(func_b)"
   ]
  },
  {
   "cell_type": "code",
   "execution_count": 15,
   "metadata": {
    "ExecuteTime": {
     "end_time": "2020-11-19T18:25:31.742637Z",
     "start_time": "2020-11-19T18:25:31.689525Z"
    }
   },
   "outputs": [
    {
     "name": "stdout",
     "output_type": "stream",
     "text": [
      "func called 1\n"
     ]
    },
    {
     "data": {
      "text/plain": [
       "200"
      ]
     },
     "execution_count": 15,
     "metadata": {},
     "output_type": "execute_result"
    }
   ],
   "source": [
    "len(func_b(1, 200))"
   ]
  },
  {
   "cell_type": "code",
   "execution_count": 16,
   "metadata": {
    "ExecuteTime": {
     "end_time": "2020-11-19T18:25:31.788684Z",
     "start_time": "2020-11-19T18:25:31.745810Z"
    }
   },
   "outputs": [
    {
     "name": "stdout",
     "output_type": "stream",
     "text": [
      "func called 1\n"
     ]
    },
    {
     "data": {
      "text/plain": [
       "601"
      ]
     },
     "execution_count": 16,
     "metadata": {},
     "output_type": "execute_result"
    }
   ],
   "source": [
    "len(func_a(1, 200))"
   ]
  },
  {
   "cell_type": "markdown",
   "metadata": {},
   "source": [
    "### Source code hashing"
   ]
  },
  {
   "cell_type": "code",
   "execution_count": 17,
   "metadata": {
    "ExecuteTime": {
     "end_time": "2020-11-19T18:25:31.817209Z",
     "start_time": "2020-11-19T18:25:31.790153Z"
    }
   },
   "outputs": [
    {
     "data": {
      "text/plain": [
       "'<ipython-input-10-5dbf27bc577c>'"
      ]
     },
     "execution_count": 17,
     "metadata": {},
     "output_type": "execute_result"
    }
   ],
   "source": [
    "func.__code__.co_filename\n"
   ]
  },
  {
   "cell_type": "code",
   "execution_count": 18,
   "metadata": {
    "ExecuteTime": {
     "end_time": "2020-11-19T18:25:31.846118Z",
     "start_time": "2020-11-19T18:25:31.824757Z"
    }
   },
   "outputs": [],
   "source": [
    "import inspect"
   ]
  },
  {
   "cell_type": "code",
   "execution_count": 19,
   "metadata": {
    "ExecuteTime": {
     "end_time": "2020-11-19T18:25:31.873247Z",
     "start_time": "2020-11-19T18:25:31.847919Z"
    }
   },
   "outputs": [
    {
     "data": {
      "text/plain": [
       "(['def func(x):\\n',\n",
       "  \"    print('func called', x)\\n\",\n",
       "  '    return list(np.linspace(0, x[0], 1000))\\n'],\n",
       " 1)"
      ]
     },
     "execution_count": 19,
     "metadata": {},
     "output_type": "execute_result"
    }
   ],
   "source": [
    "inspect.getsourcelines(func)"
   ]
  },
  {
   "cell_type": "markdown",
   "metadata": {},
   "source": [
    "Default `hash()` in python is salted so it will return different hashes for same string in different sessions.\n",
    "\n",
    "Need to use hashlib"
   ]
  },
  {
   "cell_type": "code",
   "execution_count": 20,
   "metadata": {
    "ExecuteTime": {
     "end_time": "2020-11-19T18:25:31.906907Z",
     "start_time": "2020-11-19T18:25:31.876374Z"
    }
   },
   "outputs": [],
   "source": [
    "import hashlib"
   ]
  },
  {
   "cell_type": "markdown",
   "metadata": {},
   "source": [
    "Default `hash()` in python is salted, so need to use hashlib"
   ]
  },
  {
   "cell_type": "code",
   "execution_count": 21,
   "metadata": {
    "ExecuteTime": {
     "end_time": "2020-11-19T18:25:31.929355Z",
     "start_time": "2020-11-19T18:25:31.908739Z"
    }
   },
   "outputs": [
    {
     "data": {
      "text/plain": [
       "'a08f193dc39e5c9488e0cd6d21f7620bfec99a12'"
      ]
     },
     "execution_count": 21,
     "metadata": {},
     "output_type": "execute_result"
    }
   ],
   "source": [
    "hashlib.sha1('th1'.encode()).hexdigest()"
   ]
  }
 ],
 "metadata": {
  "kernelspec": {
   "display_name": "Python 3",
   "language": "python",
   "name": "python3"
  },
  "language_info": {
   "codemirror_mode": {
    "name": "ipython",
    "version": 3
   },
   "file_extension": ".py",
   "mimetype": "text/x-python",
   "name": "python",
   "nbconvert_exporter": "python",
   "pygments_lexer": "ipython3",
   "version": "3.8.6"
  },
  "toc": {
   "base_numbering": 1,
   "nav_menu": {},
   "number_sections": true,
   "sideBar": true,
   "skip_h1_title": false,
   "title_cell": "Table of Contents",
   "title_sidebar": "Contents",
   "toc_cell": true,
   "toc_position": {},
   "toc_section_display": true,
   "toc_window_display": true
  }
 },
 "nbformat": 4,
 "nbformat_minor": 4
}
