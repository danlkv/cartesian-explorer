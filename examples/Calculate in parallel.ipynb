{
 "cells": [
  {
   "cell_type": "markdown",
   "metadata": {
    "toc": true
   },
   "source": [
    "<h1>Table of Contents<span class=\"tocSkip\"></span></h1>\n",
    "<div class=\"toc\"><ul class=\"toc-item\"></ul></div>"
   ]
  },
  {
   "cell_type": "code",
   "execution_count": null,
   "metadata": {
    "ExecuteTime": {
     "end_time": "2020-11-19T20:40:48.125782Z",
     "start_time": "2020-11-19T20:40:44.167849Z"
    },
    "scrolled": false
   },
   "outputs": [],
   "source": [
    "!pip install ray"
   ]
  },
  {
   "cell_type": "code",
   "execution_count": 1,
   "metadata": {
    "ExecuteTime": {
     "end_time": "2020-11-19T21:25:17.288897Z",
     "start_time": "2020-11-19T21:25:16.289735Z"
    }
   },
   "outputs": [],
   "source": [
    "import time\n",
    "import numpy as np\n",
    "from cartesian_explorer import Explorer\n",
    "from cartesian_explorer import parallels\n",
    "from cartesian_explorer import caches "
   ]
  },
  {
   "cell_type": "code",
   "execution_count": 2,
   "metadata": {
    "ExecuteTime": {
     "end_time": "2020-11-19T21:25:17.296537Z",
     "start_time": "2020-11-19T21:25:17.291105Z"
    }
   },
   "outputs": [],
   "source": [
    "def payload(rnd):\n",
    "    N = 2000\n",
    "    product = 1\n",
    "    for j in range(N):\n",
    "        product *= np.sin(j/N)**2 + np.cos(j/N)**2\n",
    "    return product"
   ]
  },
  {
   "cell_type": "code",
   "execution_count": 3,
   "metadata": {
    "ExecuteTime": {
     "end_time": "2020-11-19T21:25:17.315741Z",
     "start_time": "2020-11-19T21:25:17.299059Z"
    }
   },
   "outputs": [],
   "source": [
    "def test_backend(parallel, cache):\n",
    "    ex = Explorer(parallel=parallel, cache=cache)\n",
    "    _payload = ex.provider(cache=True)(payload)\n",
    "\n",
    "\n",
    "    start = time.time()\n",
    "    %timeit ex.map_variable('payload', rnd=np.random.randn(8))\n",
    "    end = time.time()\n",
    "    print(f'Duration = {end-start}')\n",
    "   "
   ]
  },
  {
   "cell_type": "code",
   "execution_count": 4,
   "metadata": {
    "ExecuteTime": {
     "end_time": "2020-11-19T21:25:17.327986Z",
     "start_time": "2020-11-19T21:25:17.319573Z"
    }
   },
   "outputs": [],
   "source": [
    "def test_with_caches(Parallel):\n",
    "    for Cache in [caches.JobLibCache, caches.FunctoolsCache_Disk]:\n",
    "        cache = Cache('/tmp/test_caex')\n",
    "        print('\\n-cache=', cache)\n",
    "        try:\n",
    "            for nproc in [1, 2]:\n",
    "                print('-- nproc=', nproc)\n",
    "                parallel = Parallel(processes=nproc)\n",
    "                test_backend(parallel, cache)\n",
    "        except Exception as e:\n",
    "            print('!Failed to distribute tasks:', e)\n"
   ]
  },
  {
   "cell_type": "code",
   "execution_count": 5,
   "metadata": {
    "ExecuteTime": {
     "end_time": "2020-11-19T21:25:25.081106Z",
     "start_time": "2020-11-19T21:25:17.613172Z"
    }
   },
   "outputs": [
    {
     "name": "stdout",
     "output_type": "stream",
     "text": [
      "\n",
      "-cache= <cartesian_explorer.caches.JobLibCache object at 0x7fb49849bcd0>\n",
      "-- nproc= 1\n"
     ]
    },
    {
     "name": "stderr",
     "output_type": "stream",
     "text": [
      "2020-11-19 15:25:18,861\tINFO services.py:1090 -- View the Ray dashboard at \u001b[1m\u001b[32mhttp://127.0.0.1:8265\u001b[39m\u001b[22m\n",
      "2020-11-19 15:25:24,340\tERROR worker.py:660 -- Calling ray.init() again after it has already been called.\n"
     ]
    },
    {
     "name": "stdout",
     "output_type": "stream",
     "text": [
      "76.4 ms ± 6.69 ms per loop (mean ± std. dev. of 7 runs, 1 loop each)\n",
      "Duration = 2.4282917976379395\n",
      "-- nproc= 2\n"
     ]
    },
    {
     "name": "stderr",
     "output_type": "stream",
     "text": [
      "2020-11-19 15:25:25,062\tERROR worker.py:660 -- Calling ray.init() again after it has already been called.\n"
     ]
    },
    {
     "name": "stdout",
     "output_type": "stream",
     "text": [
      "72.8 ms ± 20.4 ms per loop (mean ± std. dev. of 7 runs, 1 loop each)\n",
      "Duration = 0.7205488681793213\n",
      "\n",
      "-cache= <cartesian_explorer.caches.FunctoolsCache_Disk object at 0x7fb447d7c220>\n",
      "-- nproc= 1\n",
      "!Failed to distribute tasks: cannot pickle '_thread.RLock' object\n"
     ]
    }
   ],
   "source": [
    "test_with_caches(parallels.Ray)"
   ]
  },
  {
   "cell_type": "code",
   "execution_count": 6,
   "metadata": {
    "ExecuteTime": {
     "end_time": "2020-11-19T21:26:07.797393Z",
     "start_time": "2020-11-19T21:25:46.410447Z"
    }
   },
   "outputs": [
    {
     "name": "stdout",
     "output_type": "stream",
     "text": [
      "\n",
      "-cache= <cartesian_explorer.caches.JobLibCache object at 0x7fb49849bcd0>\n",
      "-- nproc= 1\n",
      "51.6 ms ± 3.23 ms per loop (mean ± std. dev. of 7 runs, 10 loops each)\n",
      "Duration = 4.299301862716675\n",
      "-- nproc= 2\n",
      "52.6 ms ± 2.95 ms per loop (mean ± std. dev. of 7 runs, 10 loops each)\n",
      "Duration = 4.2304534912109375\n",
      "\n",
      "-cache= <cartesian_explorer.caches.FunctoolsCache_Disk object at 0x7fb44550fe20>\n",
      "-- nproc= 1\n",
      "92.7 ms ± 21 ms per loop (mean ± std. dev. of 7 runs, 10 loops each)\n",
      "Duration = 7.207552909851074\n",
      "-- nproc= 2\n",
      "69.7 ms ± 7.45 ms per loop (mean ± std. dev. of 7 runs, 10 loops each)\n",
      "Duration = 5.636850833892822\n"
     ]
    }
   ],
   "source": [
    "test_with_caches(parallels.Thread)"
   ]
  },
  {
   "cell_type": "code",
   "execution_count": 8,
   "metadata": {
    "ExecuteTime": {
     "end_time": "2020-11-19T21:26:38.779359Z",
     "start_time": "2020-11-19T21:26:26.206853Z"
    }
   },
   "outputs": [
    {
     "name": "stdout",
     "output_type": "stream",
     "text": [
      "\n",
      "-cache= <cartesian_explorer.caches.JobLibCache object at 0x7fb444162220>\n",
      "-- nproc= 1\n",
      "144 ms ± 28.1 ms per loop (mean ± std. dev. of 7 runs, 10 loops each)\n",
      "Duration = 11.103675127029419\n",
      "-- nproc= 2\n",
      "159 ms ± 59.4 ms per loop (mean ± std. dev. of 7 runs, 1 loop each)\n",
      "Duration = 1.3521721363067627\n",
      "\n",
      "-cache= <cartesian_explorer.caches.FunctoolsCache_Disk object at 0x7fb4984a6a30>\n",
      "-- nproc= 1\n",
      "!Failed to distribute tasks: Can't pickle <function payload at 0x7fb445588670>: it's not the same object as __main__.payload\n"
     ]
    }
   ],
   "source": [
    "test_with_caches(parallels.Multiprocess)"
   ]
  },
  {
   "cell_type": "code",
   "execution_count": 11,
   "metadata": {
    "ExecuteTime": {
     "end_time": "2020-11-19T20:58:44.229566Z",
     "start_time": "2020-11-19T20:58:22.361717Z"
    }
   },
   "outputs": [
    {
     "name": "stdout",
     "output_type": "stream",
     "text": [
      "999.9999999999957\n",
      "Duration = 10.58320426940918\n",
      "999.9999999999957\n",
      "Duration = 11.23127555847168\n"
     ]
    }
   ],
   "source": [
    "try:\n",
    "    parallel = parallels.Thread(processes=1)\n",
    "    test_backend(parallel)\n",
    "    parallel = parallels.Thread(processes=2)\n",
    "    test_backend(parallel)\n",
    "except Exception as e:\n",
    "    print('Failed to distribute tasks:', e)"
   ]
  },
  {
   "cell_type": "code",
   "execution_count": 13,
   "metadata": {
    "ExecuteTime": {
     "end_time": "2020-11-19T20:59:32.608517Z",
     "start_time": "2020-11-19T20:59:19.101108Z"
    }
   },
   "outputs": [
    {
     "name": "stdout",
     "output_type": "stream",
     "text": [
      "999.9999999999957\n",
      "Duration = 8.987144708633423\n",
      "999.9999999999957\n",
      "Duration = 4.482992887496948\n"
     ]
    }
   ],
   "source": [
    "try:\n",
    "    parallel = parallels.Multiprocess(processes=1)\n",
    "    test_backend(parallel)\n",
    "    parallel = parallels.Multiprocess(processes=2)\n",
    "    test_backend(parallel)\n",
    "except Exception as e:\n",
    "    print('Failed to distribute tasks:', e)"
   ]
  }
 ],
 "metadata": {
  "kernelspec": {
   "display_name": "Python 3",
   "language": "python",
   "name": "python3"
  },
  "language_info": {
   "codemirror_mode": {
    "name": "ipython",
    "version": 3
   },
   "file_extension": ".py",
   "mimetype": "text/x-python",
   "name": "python",
   "nbconvert_exporter": "python",
   "pygments_lexer": "ipython3",
   "version": "3.8.6"
  },
  "toc": {
   "base_numbering": 1,
   "nav_menu": {},
   "number_sections": true,
   "sideBar": true,
   "skip_h1_title": false,
   "title_cell": "Table of Contents",
   "title_sidebar": "Contents",
   "toc_cell": true,
   "toc_position": {},
   "toc_section_display": true,
   "toc_window_display": true
  }
 },
 "nbformat": 4,
 "nbformat_minor": 4
}
